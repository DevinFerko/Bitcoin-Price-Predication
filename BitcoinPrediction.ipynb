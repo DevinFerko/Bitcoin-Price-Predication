{
 "cells": [
  {
   "cell_type": "markdown",
   "id": "61d3cf86",
   "metadata": {},
   "source": [
    "### Bitcoin Prediction - Kaggle"
   ]
  },
  {
   "cell_type": "code",
   "execution_count": null,
   "id": "0f6dd71e",
   "metadata": {},
   "outputs": [],
   "source": [
    "#Installs kagglehub for dataset - uncomment if needed\n",
    "#!pip install kagglehub\n",
    "#!pip install prophet\n",
    "\n",
    "# Imports libraries\n",
    "import os\n",
    "import requests\n",
    "import json\n",
    "import kagglehub\n",
    "import pandas as pd\n",
    "import numpy as np\n",
    "import matplotlib.pyplot as plt\n",
    "from prophet import Prophet\n",
    "from datetime import datetime"
   ]
  },
  {
   "cell_type": "code",
   "execution_count": null,
   "id": "336deda7",
   "metadata": {},
   "outputs": [],
   "source": [
    "# Download latest version of dataset\n",
    "path = kagglehub.dataset_download(\"mczielinski/bitcoin-historical-data\")\n",
    "\n",
    "# List Path & files \n",
    "print(\"Dataset downloaded to:\", path)\n",
    "print(\"Files:\", os.listdir(path))\n",
    "\n",
    "# Load the CSV create 2 dataframes\n",
    "csv_file = os.path.join(path, \"btcusd_1-min_data.csv\")\n",
    "data = pd.read_csv(csv_file)\n",
    "df = pd.read_csv(csv_file)\n",
    "\n",
    "# Prints head to confirm\n",
    "print(data.head())"
   ]
  },
  {
   "cell_type": "code",
   "execution_count": null,
   "id": "66da3efe",
   "metadata": {},
   "outputs": [],
   "source": [
    "# Convert Timestamp to datetime\n",
    "data.Timestamp = pd.to_datetime(data.Timestamp, unit='s')\n",
    "\n",
    "# Resampling to daily frequency\n",
    "data.index = data.Timestamp\n",
    "data = data.resample('D').mean()\n",
    "\n",
    "# Resampling to monthly frequency\n",
    "data_month = data.resample('ME').mean()\n",
    "\n",
    "# Resampling to annual frequency\n",
    "data_year = data.resample('YE-DEC').mean()\n",
    "\n",
    "# Resampling to quarterly frequency\n",
    "data_Q = data.resample('QE-DEC').mean()\n",
    "\n",
    "# Prints head to confirm - Uncomment if needed\n",
    "#data.head()\n",
    "#data_month.head()\n",
    "#data_year.head()\n",
    "#data_Q.head()"
   ]
  },
  {
   "cell_type": "markdown",
   "id": "416afda1",
   "metadata": {},
   "source": [
    "##### We want to look at Volumne Weighted Average Price\n",
    "\n",
    "What does the VWAP tell you?\n",
    "VWAP is the abbreviation for volume-weighted average price, which is a technical analysis tool that shows the ratio of an asset's price to its total trade volume. It provides traders and investors with a measure of the average price at which a stock is traded over a given period of time."
   ]
  },
  {
   "cell_type": "code",
   "execution_count": null,
   "id": "29b3ed6b",
   "metadata": {},
   "outputs": [],
   "source": [
    "# Calculates Weighted Value\n",
    "\n",
    "data['Weighted_Price'] = (data['High'] + data['Low'] + data['Close']) / 3\n"
   ]
  },
  {
   "cell_type": "code",
   "execution_count": null,
   "id": "d7f26e16",
   "metadata": {},
   "outputs": [],
   "source": [
    "# Calculates VWAP\n",
    "vwap = data['Weighted_Price'] * data['Volume']\n",
    "\n",
    "# Resamples to the specific frequencies - Daily, Monthly, Yearly, Quarterly - We then want to sum the VWAP and divide by the sum of the volume for each period\n",
    "vwap_d = vwap.resample('D').sum() / data['Volume'].resample('D').sum()\n",
    "vwap_m = vwap.resample('ME').sum() / data['Volume'].resample('ME').sum()\n",
    "vwap_y = vwap.resample('YE-DEC').sum()  / data['Volume'].resample('YE-DEC').sum()\n",
    "vwap_q = vwap.resample('QE-DEC').sum()  / data['Volume'].resample('QE-DEC').sum()\n",
    "\n",
    "# Amends to DataFrame based on frequency\n",
    "data = vwap_d.to_frame(name='Weighted Price')\n",
    "data_month = vwap_m.to_frame(name='Weighted Price')\n",
    "data_year = vwap_y.to_frame(name='Weighted Price')\n",
    "data_Q = vwap_q.to_frame(name='Weighted Price')\n",
    "\n",
    "# Prints head to confirm - Comment if needed\n",
    "#data.head()\n",
    "#data_month.head()\n",
    "#data_year.head()\n",
    "#data_Q.head()"
   ]
  },
  {
   "cell_type": "code",
   "execution_count": null,
   "id": "d60b1ede",
   "metadata": {},
   "outputs": [],
   "source": [
    "# Plot the above data to visualize trends\n",
    "\n",
    "fig, axs = plt.subplots(2, 2, figsize=(15, 10))\n",
    "\n",
    "# Daily\n",
    "axs[0,0].plot(data.index, data['Weighted Price'], color='blue')\n",
    "axs[0,0].set_title('Daily VWAP')\n",
    "\n",
    "# Monthly\n",
    "axs[0,1].plot(data_month.index, data_month['Weighted Price'], color='blue')\n",
    "axs[0,1].set_title('Monthly VWAP')\n",
    "\n",
    "# Yearly\n",
    "axs[1,0].plot(data_Q.index, data_Q['Weighted Price'], color='blue')\n",
    "axs[1,0].set_title('Quarterly VWAP')\n",
    "\n",
    "# Quarterly\n",
    "axs[1,1].plot(data_year.index, data_year['Weighted Price'], color='blue')\n",
    "axs[1,1].set_title('Yearly VWAP')\n",
    "\n",
    "plt.tight_layout()\n",
    "plt.show()\n"
   ]
  },
  {
   "cell_type": "markdown",
   "id": "dbd3e6a8",
   "metadata": {},
   "source": [
    "# Prediction Model\n",
    "\n",
    "After a bit of research I decide to implentent a hybrid model.\n",
    "    - Prophet - captures long-term trend + seasonality.\n",
    "    - XGBoost - models short-term residuals that Prophet misses."
   ]
  },
  {
   "cell_type": "code",
   "execution_count": null,
   "id": "0da6ce27",
   "metadata": {},
   "outputs": [],
   "source": [
    "# Prophet Prediction Model\n",
    "\n",
    "#convert timestamp to datetime then set as index\n",
    "df['Timestamp'] = pd.to_datetime(df['Timestamp'], unit='s')\n",
    "df.set_index('Timestamp', inplace=True)\n",
    "\n",
    "# Daily Frequency\n",
    "df_prophet = df[['Close']].resample('D').ffill().reset_index()\n",
    "df_prophet = df_prophet.rename(columns={'Timestamp': 'ds', 'Close': 'y'})\n",
    "df_prophet['y'] = np.log(df_prophet['y'])  # Log transform to stabilize variance\n",
    "\n",
    "# Prophet model\n",
    "\n",
    "model = Prophet(daily_seasonality=True, yearly_seasonality=True)\n",
    "model.fit(df_prophet)\n",
    "\n",
    "# Forecasting for 180 days - essentially 6 months\n",
    "future = model.make_future_dataframe(periods=180)\n",
    "forecast = model.predict(future)\n",
    "\n",
    "\n",
    "\n",
    "# Saves Prophet Baseline and calculates Residuals \n",
    "\n",
    "# Line 1 Prophet Baseline\n",
    "# Prophet creates a yhat column in the forecast dataframe\n",
    "# But used for predicting future values so dateframe won't line up with original df_prophet\n",
    "# Example df is 100 row, after prophet df is 120 rows\n",
    "# Therefore ':len(df_prophet)-1' evens out to the correct number of rows\n",
    "df_prophet['prophet_yhat'] = forecast.loc[:len(df_prophet)-1, 'yhat'].values\n",
    "\n",
    "# Line 2 Residuals\n",
    "# Residuals is actual value minus predicted value\n",
    "# Used to judge the accuracy of the model by how far off your predictions were\n",
    "df_prophet['residuals'] = df_prophet['y'] - df_prophet['prophet_yhat']\n",
    "\n",
    "df_prophet.head()"
   ]
  },
  {
   "cell_type": "code",
   "execution_count": null,
   "id": "ffc800b8",
   "metadata": {},
   "outputs": [],
   "source": [
    "# Plot values against dates\n",
    "plot = df_prophet.plot(x= 'ds', y= ['y', 'prophet_yhat', 'residuals'], figsize=(15, 6))\n",
    "\n",
    "\n",
    "plt.title('Prophet Model: Actual vs Predicted')"
   ]
  }
 ],
 "metadata": {
  "kernelspec": {
   "display_name": ".venv",
   "language": "python",
   "name": "python3"
  },
  "language_info": {
   "codemirror_mode": {
    "name": "ipython",
    "version": 3
   },
   "file_extension": ".py",
   "mimetype": "text/x-python",
   "name": "python",
   "nbconvert_exporter": "python",
   "pygments_lexer": "ipython3",
   "version": "3.12.3"
  }
 },
 "nbformat": 4,
 "nbformat_minor": 5
}
