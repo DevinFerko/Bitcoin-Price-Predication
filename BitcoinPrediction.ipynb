{
 "cells": [
  {
   "cell_type": "markdown",
   "id": "61d3cf86",
   "metadata": {},
   "source": [
    "### Bitcoin Prediction - Kaggle"
   ]
  },
  {
   "cell_type": "code",
   "execution_count": 1,
   "id": "0f6dd71e",
   "metadata": {},
   "outputs": [],
   "source": [
    "#Installs kagglehub for dataset - uncomment if needed\n",
    "#!pip install kagglehub\n",
    "\n",
    "# Imports libraries\n",
    "import os\n",
    "import requests\n",
    "import json\n",
    "import kagglehub\n",
    "import pandas as pd\n",
    "from datetime import datetime\n",
    "\n"
   ]
  },
  {
   "cell_type": "code",
   "execution_count": 2,
   "id": "336deda7",
   "metadata": {},
   "outputs": [
    {
     "name": "stdout",
     "output_type": "stream",
     "text": [
      "Dataset downloaded to: C:\\Users\\Devin Ferko\\.cache\\kagglehub\\datasets\\mczielinski\\bitcoin-historical-data\\versions\\352\n",
      "Files: ['btcusd_1-min_data.csv']\n",
      "      Timestamp  Open  High   Low  Close  Volume\n",
      "0  1.325412e+09  4.58  4.58  4.58   4.58     0.0\n",
      "1  1.325412e+09  4.58  4.58  4.58   4.58     0.0\n",
      "2  1.325412e+09  4.58  4.58  4.58   4.58     0.0\n",
      "3  1.325412e+09  4.58  4.58  4.58   4.58     0.0\n",
      "4  1.325412e+09  4.58  4.58  4.58   4.58     0.0\n"
     ]
    }
   ],
   "source": [
    "# Download latest version of dataset\n",
    "path = kagglehub.dataset_download(\"mczielinski/bitcoin-historical-data\")\n",
    "\n",
    "# List Path & files \n",
    "print(\"Dataset downloaded to:\", path)\n",
    "print(\"Files:\", os.listdir(path))\n",
    "\n",
    "# Load the CSV \n",
    "csv_file = os.path.join(path, \"btcusd_1-min_data.csv\")\n",
    "data = pd.read_csv(csv_file)\n",
    "\n",
    "# Prints head to confirm\n",
    "print(data.head())"
   ]
  },
  {
   "cell_type": "code",
   "execution_count": 3,
   "id": "66da3efe",
   "metadata": {},
   "outputs": [],
   "source": [
    "# Convert Timestamp to datetime\n",
    "data.Timestamp = pd.to_datetime(data.Timestamp, unit='s')\n",
    "\n",
    "# Resampling to daily frequency\n",
    "data.index = data.Timestamp\n",
    "data = data.resample('D').mean()\n",
    "\n",
    "# Resampling to monthly frequency\n",
    "data_month = data.resample('ME').mean()\n",
    "\n",
    "# Resampling to annual frequency\n",
    "data_year = data.resample('YE-DEC').mean()\n",
    "\n",
    "# Resampling to quarterly frequency\n",
    "data_Q = data.resample('QE-DEC').mean()\n",
    "\n",
    "# Prints head to confirm - Uncomment if needed\n",
    "#data.head()\n",
    "#data_month.head()\n",
    "#data_year.head()\n",
    "#data_Q.head()"
   ]
  },
  {
   "cell_type": "markdown",
   "id": "416afda1",
   "metadata": {},
   "source": [
    "##### We want to look at Volumne Weighted Average Price\n",
    "\n",
    "What does the VWAP tell you?\n",
    "VWAP is the abbreviation for volume-weighted average price, which is a technical analysis tool that shows the ratio of an asset's price to its total trade volume. It provides traders and investors with a measure of the average price at which a stock is traded over a given period of time."
   ]
  },
  {
   "cell_type": "code",
   "execution_count": 4,
   "id": "29b3ed6b",
   "metadata": {},
   "outputs": [],
   "source": [
    "# Calculates Weighted Value\n",
    "\n",
    "data['Weighted_Price'] = (data['High'] + data['Low'] + data['Close']) / 3\n"
   ]
  }
 ],
 "metadata": {
  "kernelspec": {
   "display_name": ".venv",
   "language": "python",
   "name": "python3"
  },
  "language_info": {
   "codemirror_mode": {
    "name": "ipython",
    "version": 3
   },
   "file_extension": ".py",
   "mimetype": "text/x-python",
   "name": "python",
   "nbconvert_exporter": "python",
   "pygments_lexer": "ipython3",
   "version": "3.12.3"
  }
 },
 "nbformat": 4,
 "nbformat_minor": 5
}
