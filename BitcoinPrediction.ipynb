{
 "cells": [
  {
   "cell_type": "markdown",
   "id": "61d3cf86",
   "metadata": {},
   "source": [
    "### Bitcoin Prediction - Kaggle"
   ]
  },
  {
   "cell_type": "code",
   "execution_count": 11,
   "id": "0f6dd71e",
   "metadata": {},
   "outputs": [],
   "source": [
    "#Installs kagglehub for dataset - uncomment if needed\n",
    "#!pip install kagglehub\n",
    "\n",
    "# Imports libraries\n",
    "import os\n",
    "import requests\n",
    "import json\n",
    "import kagglehub\n",
    "import pandas as pd\n",
    "\n"
   ]
  },
  {
   "cell_type": "code",
   "execution_count": null,
   "id": "336deda7",
   "metadata": {},
   "outputs": [
    {
     "name": "stdout",
     "output_type": "stream",
     "text": [
      "Dataset downloaded to: C:\\Users\\Devin Ferko\\.cache\\kagglehub\\datasets\\mczielinski\\bitcoin-historical-data\\versions\\352\n",
      "Files: ['btcusd_1-min_data.csv']\n",
      "      Timestamp  Open  High   Low  Close  Volume\n",
      "0  1.325412e+09  4.58  4.58  4.58   4.58     0.0\n",
      "1  1.325412e+09  4.58  4.58  4.58   4.58     0.0\n",
      "2  1.325412e+09  4.58  4.58  4.58   4.58     0.0\n",
      "3  1.325412e+09  4.58  4.58  4.58   4.58     0.0\n",
      "4  1.325412e+09  4.58  4.58  4.58   4.58     0.0\n"
     ]
    }
   ],
   "source": [
    "# Download latest version of dataset\n",
    "path = kagglehub.dataset_download(\"mczielinski/bitcoin-historical-data\")\n",
    "\n",
    "# List Path & files \n",
    "print(\"Dataset downloaded to:\", path)\n",
    "print(\"Files:\", os.listdir(path))\n",
    "\n",
    "# Load the CSV \n",
    "csv_file = os.path.join(path, \"btcusd_1-min_data.csv\")\n",
    "data = pd.read_csv(csv_file)\n",
    "\n",
    "# Prints head to confirm\n",
    "print(data.head())"
   ]
  },
  {
   "cell_type": "code",
   "execution_count": null,
   "id": "66da3efe",
   "metadata": {},
   "outputs": [],
   "source": []
  }
 ],
 "metadata": {
  "kernelspec": {
   "display_name": ".venv",
   "language": "python",
   "name": "python3"
  },
  "language_info": {
   "codemirror_mode": {
    "name": "ipython",
    "version": 3
   },
   "file_extension": ".py",
   "mimetype": "text/x-python",
   "name": "python",
   "nbconvert_exporter": "python",
   "pygments_lexer": "ipython3",
   "version": "3.12.3"
  }
 },
 "nbformat": 4,
 "nbformat_minor": 5
}
